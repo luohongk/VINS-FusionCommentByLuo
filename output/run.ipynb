{
 "cells": [
  {
   "cell_type": "code",
   "execution_count": 25,
   "metadata": {},
   "outputs": [
    {
     "name": "stdout",
     "output_type": "stream",
     "text": [
      "# Failed to use specified server: GDBus.Error:org.freedesktop.DBus.Error.ServiceUnknown: The name :1.1045 was not provided by any .service files\n",
      "# Falling back to default server.\n",
      "# Failed to use specified server: GDBus.Error:org.freedesktop.DBus.Error.ServiceUnknown: The name :1.1045 was not provided by any .service files\n",
      "# Falling back to default server.\n",
      "# Failed to use specified server: GDBus.Error:org.freedesktop.DBus.Error.ServiceUnknown: The name :1.1045 was not provided by any .service files\n",
      "# Falling back to default server.\n",
      "# Failed to use specified server: GDBus.Error:org.freedesktop.DBus.Error.ServiceUnknown: The name :1.1045 was not provided by any .service files\n",
      "# Falling back to default server.\n"
     ]
    }
   ],
   "source": [
    "import subprocess\n",
    "import sys\n",
    "import time\n",
    "import subprocess\n",
    "import platform\n",
    "import os\n",
    "import pyautogui\n",
    "# import wnck\n",
    "\n",
    "\n",
    "# 关闭终端的函数\n",
    "def close_all_terminals():\n",
    "    os.system(\"pkill gnome-terminal\")\n",
    "\n",
    "close_all_terminals()\n",
    "\n",
    "# 读取txt文件中的命令\n",
    "with open(\"run.txt\", \"r\") as f:\n",
    "    temp_commands = [line.strip() for line in f]\n",
    "\n",
    "\n",
    "# 打开终端并输入指令的函数\n",
    "def open_terminal_with_command(command):\n",
    "    system = platform.system()\n",
    "    if system == \"Windows\":\n",
    "        subprocess.Popen(f\"start cmd /k {command}\", shell=True)\n",
    "    elif system == \"Darwin\":  # macOS\n",
    "        subprocess.Popen(\n",
    "            [\"osascript\", \"-e\", f'tell app \"Terminal\" to do script \"{command}\"']\n",
    "        )\n",
    "    elif system == \"Linux\":\n",
    "        subprocess.Popen(\n",
    "            [\"terminator\", \"--\", \"bash\", \"-c\", f\"{command}; exec bash\"]\n",
    "        )\n",
    "        subprocess.call([\"xdotool\", \"search\", \"--name\", \"Terminal\", \"windowminimize\"])\n",
    "    else:\n",
    "        print(f\"Unsupported operating system: {system}\")\n",
    "\n",
    "\n",
    "# 使用示例\n",
    "commands = [\n",
    "    [temp_commands[0]],\n",
    "    [temp_commands[1]],\n",
    "    [temp_commands[2]],\n",
    "    [temp_commands[3]],\n",
    "]\n",
    "\n",
    "\n",
    "\n",
    "# 打开终端并且输入指令\n",
    "for command in commands:\n",
    "    for cmd in command:\n",
    "        # open_terminal_with_command(cmd)\n",
    "        # 等待1秒钟\n",
    "        proc = subprocess.Popen(\n",
    "            [\"gnome-terminal\", \"--\", \"bash\", \"-c\", f\"{cmd}; exec bash\"]\n",
    "        )\n",
    "        # proc = subprocess.Popen(\n",
    "        #     [\"terminator\", \"-x\", \"bash\", \"-c\", f\"{cmd}; exec bash\"]\n",
    "        # )\n",
    "        time.sleep(0.5)\n",
    "        \n",
    "        try:\n",
    "            # 使用pyautogui模拟按下\"alt+space\"键,然后按下\"enter\"键来最小化窗口\n",
    "            pyautogui.hotkey(\"alt\", \"space\")\n",
    "            time.sleep(0.5)\n",
    "            pyautogui.press(\"enter\")\n",
    "        except:\n",
    "            print(\"Failed to minimize terminal window\")\n",
    "        \n",
    "        time.sleep(0.2)\n",
    "\n",
    "pyautogui.hotkey(\"alt\", \"space\")\n",
    "time.sleep(0.5)\n",
    "pyautogui.press(\"enter\")\n",
    "\n",
    "# 如果某一个终端中断就关闭所有终端\n",
    "\n",
    "# close_all_terminals()\n",
    "# 检查所有终端是否停止输出内容\n"
   ]
  },
  {
   "cell_type": "code",
   "execution_count": 26,
   "metadata": {},
   "outputs": [
    {
     "name": "stdout",
     "output_type": "stream",
     "text": [
      "rosbag play ~/data/EuRoC/V2_03_difficult.bag\n",
      "V203\n",
      "文件重命名成功\n"
     ]
    }
   ],
   "source": [
    "# 读取txt文件中的命令\n",
    "with open(\"run.txt\", \"r\") as f:\n",
    "    temp_commands = [line.strip() for line in f]\n",
    "\n",
    "\n",
    "print(temp_commands[3])\n",
    "play_data_command=temp_commands[3]\n",
    "# 截取第5到7个字符\n",
    "str=play_data_command[25:30]\n",
    "# 去除下划线\n",
    "str=str.replace(\"_\",\"\")\n",
    "print(str)\n",
    "\n",
    "# 重命名当前文件夹中的文件\n",
    "import os\n",
    "os.rename(\"vio_loop.csv\",str+\"_vio_loop.csv\")\n",
    "os.rename(\"vio.csv\",str+\"_vio.csv\")\n",
    "print(\"文件重命名成功\")\n"
   ]
  }
 ],
 "metadata": {
  "kernelspec": {
   "display_name": "workenv",
   "language": "python",
   "name": "python3"
  },
  "language_info": {
   "codemirror_mode": {
    "name": "ipython",
    "version": 3
   },
   "file_extension": ".py",
   "mimetype": "text/x-python",
   "name": "python",
   "nbconvert_exporter": "python",
   "pygments_lexer": "ipython3",
   "version": "3.11.7"
  }
 },
 "nbformat": 4,
 "nbformat_minor": 2
}
